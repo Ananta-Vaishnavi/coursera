{
 "cells": [
  {
   "cell_type": "markdown",
   "metadata": {
    "id": "YGE49OHswSUd"
   },
   "source": [
    "#**Data Science Tools and Ecosystem**\n",
    "##In this notebook, Data Science Tools and Ecosystem are summarized.\n",
    "####Some of the popular languages that Data Scientists use are:\n",
    "1. R\n",
    "2. SQL\n",
    "3. Python\n",
    "4. Scala\n",
    "5. Julia\n",
    "\n",
    "####Some of the commonly used libraries used by Data Scientists include:\n",
    "1. Caret\n",
    "2. ggplot\n",
    "3. scipy\n",
    "4. numpy\n",
    "5. marplotlib\n",
    "\n",
    "|Data Science Tools   |\n",
    "|---------------------|\n",
    "|Jupyter Notebook     |\n",
    "|RStudio              |\n",
    "|VS Code (with Python)|\n"
   ]
  },
  {
   "cell_type": "markdown",
   "metadata": {
    "id": "lrK9sdI90Om_"
   },
   "source": [
    "###Below are a few examples of evaluating arithmetic expressions in Python"
   ]
  },
  {
   "cell_type": "code",
   "execution_count": 5,
   "metadata": {
    "colab": {
     "base_uri": "https://localhost:8080/"
    },
    "id": "bwDQHBwmwn-y",
    "outputId": "f37a5a9b-4af0-4da8-8094-3423e40fccd4"
   },
   "outputs": [
    {
     "name": "stdout",
     "output_type": "stream",
     "text": [
      "This a simple arithmetic expression to mutiply then add integers\n",
      "17\n"
     ]
    }
   ],
   "source": [
    "print(\"This a simple arithmetic expression to mutiply then add integers\")\n",
    "print((3*4)+5)"
   ]
  },
  {
   "cell_type": "code",
   "execution_count": 7,
   "metadata": {
    "colab": {
     "base_uri": "https://localhost:8080/"
    },
    "id": "cC-CpQBI1Zce",
    "outputId": "e7dbab25-a4b8-44d2-f494-9e1ddd0061c5"
   },
   "outputs": [
    {
     "name": "stdout",
     "output_type": "stream",
     "text": [
      "3.3333333333333335\n"
     ]
    }
   ],
   "source": [
    "def converttohours(mins):\n",
    "  #this will convert 200 minutes to hours by diving by 60\n",
    "  return mins/60\n",
    "\n",
    "print(converttohours(200))\n",
    "\n"
   ]
  },
  {
   "cell_type": "markdown",
   "metadata": {
    "id": "pJlmfUxq2oId"
   },
   "source": [
    "###Some of the key takeaways from the course\n",
    "###**Objectives:**\n",
    "- List popular languages for Data Science\n",
    "- List Popular Tools for Data Science\n",
    "- What are Notebooks?\n",
    "- What is Git and Github?\n",
    "- How to visualize the Data? Data Visualization Types"
   ]
  },
  {
   "cell_type": "markdown",
   "metadata": {
    "id": "4Hlw4H4n3iJp"
   },
   "source": [
    "##Author\n",
    "Riya"
   ]
  }
 ],
 "metadata": {
  "colab": {
   "provenance": []
  },
  "kernelspec": {
   "display_name": "Python 3 (ipykernel)",
   "language": "python",
   "name": "python3"
  },
  "language_info": {
   "codemirror_mode": {
    "name": "ipython",
    "version": 3
   },
   "file_extension": ".py",
   "mimetype": "text/x-python",
   "name": "python",
   "nbconvert_exporter": "python",
   "pygments_lexer": "ipython3",
   "version": "3.9.12"
  }
 },
 "nbformat": 4,
 "nbformat_minor": 1
}
